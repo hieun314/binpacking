{
  "cells": [
    {
      "cell_type": "code",
      "execution_count": 8,
      "metadata": {
        "id": "9lQon8mPGQEc"
      },
      "outputs": [],
      "source": [
        "import math\n",
        "import numpy as np\n",
        "import random as rd\n",
        "import matplotlib.pyplot as plt\n",
        "import numba\n",
        "from numba import njit\n",
        "import time\n",
        "from matplotlib.pyplot import figure\n",
        "# !pip install ortools\n",
        "# import ortools\n",
        "\n",
        "# from ortools.constraint_solver import routing_enums_pb2\n",
        "\n",
        "# from ortools.constraint_solver import pywrapcp\n",
        "from numba.typed import List\n",
        "from collections import defaultdict\n"
      ]
    },
    {
      "cell_type": "code",
      "execution_count": 9,
      "metadata": {
        "id": "kwmM35W4owWM"
      },
      "outputs": [],
      "source": [
        "n = 200\n",
        "item= []\n",
        "for i in range(n//4):\n",
        "    a= rd.randint(20,30)\n",
        "    b= rd.randint(20,30)\n",
        "    item.append(np.array([a,b], np.int_))\n",
        "for i in range(n//4):\n",
        "    a= rd.randint(50,80)\n",
        "    b= rd.randint(10,20)\n",
        "    item.append(np.array([a,b], np.int_))\n",
        "for i in range(n//4):\n",
        "    a= rd.randint(20,30)\n",
        "    b= rd.randint(80,90)\n",
        "    item.append(np.array([a,b], np.int_))\n",
        "for i in range(n//4):\n",
        "    a= rd.randint(70,90)\n",
        "    b= rd.randint(80,90)\n",
        "    item.append(np.array([a,b], np.int_))\n",
        "item= np.array( item, np.int_)\n",
        "capacity = 500\n",
        "time = 2000\n",
        "min_time = min([item_i[0] for item_i in item])\n",
        "min_capacity = min([item_i[1] for item_i in item])"
      ]
    },
    {
      "cell_type": "code",
      "execution_count": 10,
      "metadata": {
        "id": "qBhuRtEDAZz_"
      },
      "outputs": [],
      "source": [
        "@njit\n",
        "def guillotine(s, item):\n",
        "    list_bin = np.empty((1, 3), np.int_)\n",
        "    list_bin[0] = np.array([time,capacity,0], np.int_)\n",
        "    best_space = 0\n",
        "    best_time = 0\n",
        "    for i in range(len(s)):\n",
        "      for j in range(len(list_bin)):\n",
        "          if item[s[i], 0] <= list_bin[j][0] and item[s[i], 1] <= list_bin[j][1]:\n",
        "              bin_left = np.array([item[s[i], 0], list_bin[j][1] - item[s[i], 1], list_bin[j][2]], np.int_)\n",
        "              bin_right = np.array([list_bin[j][0] - item[s[i], 0], list_bin[j][1], list_bin[j][2] + item[s[i], 0]], np.int_)\n",
        "              best_time = max(best_time, list_bin[j][2] +item[s[i], 0])\n",
        "              if bin_right[0] >= min_time and bin_left[1] >= min_capacity:\n",
        "                  new_list_bin = np.empty((len(list_bin) + 1, 3), np.int_)\n",
        "                  new_list_bin[:j] = list_bin[:j]\n",
        "                  new_list_bin[j] = bin_left\n",
        "                  new_list_bin[j+1] = bin_right\n",
        "                  new_list_bin[j+2:] = list_bin[j+1:]\n",
        "                  list_bin = new_list_bin\n",
        "              elif bin_right[0] >= min_time: list_bin[j] = bin_right\n",
        "              elif bin_left[1] >= min_capacity: list_bin[j] = bin_left\n",
        "              else:\n",
        "                  new_list_bin = np.empty((len(list_bin) - 1, 3), np.int_)\n",
        "                  new_list_bin[:j] = list_bin[:j]\n",
        "                  new_list_bin[j:] = list_bin[j+1:]\n",
        "                  list_bin = new_list_bin\n",
        "              best_space += item[s[i],0] * item[s[i],1]\n",
        "              break\n",
        "    return best_space, best_time"
      ]
    },
    {
      "cell_type": "code",
      "execution_count": 11,
      "metadata": {
        "id": "FITrM3EGDNzs"
      },
      "outputs": [],
      "source": [
        "@njit\n",
        "def ls(s,k, item):\n",
        "    best_space, best_time = guillotine(s,item)\n",
        "    print(best_space, best_time)\n",
        "    for _ in range(k):\n",
        "        new_item = np.copy(item)\n",
        "        j = len(s)%k\n",
        "        for i in range(j-len(s), j):\n",
        "            new_item[s[i]][0], new_item[s[i]][1] = new_item[s[i]][1], new_item[s[i]][0]\n",
        "            a,b=  guillotine(s,new_item)\n",
        "            if a > best_space or a == best_space and b < best_time:\n",
        "                item = new_item.copy()\n",
        "                best_space=a\n",
        "                best_time=b\n",
        "                print(best_space, best_time)\n",
        "    for _ in range(k):\n",
        "        new_item = np.copy(item)\n",
        "        i= rd.randint(0,len(s)-2)\n",
        "        j= rd.randint(i+1,len(s)-1)\n",
        "        new_item[s[i]], new_item[s[j]] = new_item[s[j]].copy(),new_item[s[i]].copy()\n",
        "        a,b= guillotine(s, new_item)\n",
        "        if a > best_space or a == best_space and b < best_time:\n",
        "            item = new_item.copy()\n",
        "            best_space=a\n",
        "            best_time=b\n",
        "            print(best_space, best_time)\n",
        "    return item"
      ]
    },
    {
      "cell_type": "code",
      "execution_count": 12,
      "metadata": {
        "colab": {
          "base_uri": "https://localhost:8080/"
        },
        "id": "HmHBv1Lhq3X0",
        "outputId": "6b4543d0-bedc-4c2e-f2f3-09cd8037ee6e"
      },
      "outputs": [
        {
          "name": "stdout",
          "output_type": "stream",
          "text": [
            "527504 1107\n",
            "527504 1106\n"
          ]
        },
        {
          "data": {
            "text/plain": [
              "(527504, 1106)"
            ]
          },
          "execution_count": 12,
          "metadata": {},
          "output_type": "execute_result"
        }
      ],
      "source": [
        "A = list(range(len(item)))\n",
        "A.sort(key= lambda x:-item[x][0])\n",
        "s = np.array(A, np.int_)\n",
        "item = ls(s,1000,item)\n",
        "guillotine(s,item)"
      ]
    },
    {
      "cell_type": "code",
      "execution_count": 13,
      "metadata": {
        "colab": {
          "base_uri": "https://localhost:8080/"
        },
        "id": "G63w34PtoSlQ",
        "outputId": "3e8e2925-7efc-426b-cba9-dfc5225d5f65"
      },
      "outputs": [
        {
          "data": {
            "image/png": "[encoded data removed]",
            "text/plain": [
              "<Figure size 1280x2560 with 1 Axes>"
            ]
          },
          "metadata": {},
          "output_type": "display_data"
        }
      ],
      "source": [
        "from matplotlib.patches import Rectangle\n",
        "def rec(x,y,l,w,color):\n",
        "    rec= Rectangle((x,y),l,w,linewidth=1,edgecolor='r',facecolor=color)\n",
        "    plt.gca().add_patch(rec)\n",
        "from matplotlib.pyplot import figure\n",
        "def guillotine_draw(s):\n",
        "\n",
        "    figure(figsize=(8, 16), dpi=160)\n",
        "    plt.gca().set_aspect('equal')\n",
        "\n",
        "    plt.plot(time, capacity, \"ro\")\n",
        "    rec(x=0,y=0,l=time,w=capacity,color='none')\n",
        "    pv_x = 0\n",
        "    pv_y = 0\n",
        "    list_bin = np.empty((1, 4), np.int_)\n",
        "    list_bin[0] = np.array([time,capacity,0,0], np.int_)\n",
        "    for i in range(len(s)):\n",
        "        for j in range(len(list_bin)):\n",
        "            if item[s[i], 0] <= list_bin[j][0] and item[s[i], 1] <= list_bin[j][1]:\n",
        "                pv_x = list_bin[j][2]\n",
        "                pv_y = list_bin[j][3]\n",
        "                rec(x=pv_x, y=pv_y,l=item[s[i],0],w=item[s[i],1], color=\"blue\")\n",
        "                bin_left = np.array([item[s[i], 0], list_bin[j][1] - item[s[i], 1], pv_x, pv_y + item[s[i], 1]], np.int_)\n",
        "                bin_right = np.array([list_bin[j][0] - item[s[i], 0], list_bin[j][1], pv_x + item[s[i], 0], pv_y], np.int_)\n",
        "                if bin_right[0] >= min_time and bin_left[1] >= min_capacity:\n",
        "                    new_list_bin = np.empty((len(list_bin) + 1, 4), np.int_)\n",
        "                    new_list_bin[:j] = list_bin[:j]\n",
        "                    new_list_bin[j] = bin_left\n",
        "                    new_list_bin[j+1] = bin_right\n",
        "                    new_list_bin[j+2:] = list_bin[j+1:]\n",
        "                    list_bin = new_list_bin\n",
        "                elif bin_right[0] >= min_time: list_bin[j] = bin_right\n",
        "                elif bin_left[1] >= min_capacity: list_bin[j] = bin_left\n",
        "                else:\n",
        "                    new_list_bin = np.empty((len(list_bin) - 1, 4), np.int_)\n",
        "                    new_list_bin[:j] = list_bin[:j]\n",
        "                    new_list_bin[j:] = list_bin[j+1:]\n",
        "                    list_bin = new_list_bin\n",
        "                break\n",
        "guillotine_draw(s)"
      ]
    }
  ],
  "metadata": {
    "colab": {
      "provenance": []
    },
    "kernelspec": {
      "display_name": "Python 3",
      "name": "python3"
    },
    "language_info": {
      "codemirror_mode": {
        "name": "ipython",
        "version": 3
      },
      "file_extension": ".py",
      "mimetype": "text/x-python",
      "name": "python",
      "nbconvert_exporter": "python",
      "pygments_lexer": "ipython3",
      "version": "3.10.10"
    }
  },
  "nbformat": 4,
  "nbformat_minor": 0
}
