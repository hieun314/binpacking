{
  "cells": [
    {
      "cell_type": "code",
      "execution_count": 1,
      "metadata": {
        "id": "WfHZiOi_nf6e"
      },
      "outputs": [],
      "source": [
        "import math\n",
        "import numpy as np\n",
        "import random as rd\n",
        "import matplotlib.pyplot as plt\n",
        "import numba\n",
        "from numba import njit\n",
        "import time\n",
        "from matplotlib.pyplot import figure\n",
        "from numba.typed import List\n",
        "from collections import defaultdict\n"
      ]
    },
    {
      "cell_type": "code",
      "execution_count": 2,
      "metadata": {
        "id": "qBsOHXpXniiF"
      },
      "outputs": [],
      "source": [
        "n = 200\n",
        "item= []\n",
        "for i in range(n//4):\n",
        "    a= rd.randint(20,30)\n",
        "    b= rd.randint(20,30)\n",
        "    item.append(np.array([a,b], np.int_))\n",
        "for i in range(n//4):\n",
        "    a= rd.randint(10,20)\n",
        "    b= rd.randint(50,80)\n",
        "    item.append(np.array([a,b], np.int_))\n",
        "for i in range(n//4):\n",
        "    a= rd.randint(80,90)\n",
        "    b= rd.randint(20,30)\n",
        "    item.append(np.array([a,b], np.int_))\n",
        "for i in range(n//4):\n",
        "    a= rd.randint(80,90)\n",
        "    b= rd.randint(70,90)\n",
        "    item.append(np.array([a,b], np.int_))\n",
        "item= np.array( item, np.int_)\n",
        "min_length = min([item_i[0] for item_i in item])\n",
        "length= 500"
      ]
    },
    {
      "cell_type": "code",
      "execution_count": 3,
      "metadata": {
        "id": "YJRzkzWznv3h"
      },
      "outputs": [],
      "source": [
        "@njit\n",
        "def shelf(s, item):\n",
        "    total = length\n",
        "    count = 0\n",
        "    max_width=0\n",
        "    min_width=np.inf\n",
        "    cost=0\n",
        "    list_bin = np.empty((0, 2), np.int_)\n",
        "    for i in range(len(s)):\n",
        "        change = False\n",
        "        for j in range(len(list_bin)):\n",
        "          if list_bin[j][0] >= item[s[i], 0] and list_bin[j][1] >= item[s[i],1]:\n",
        "              list_bin[j][:] = [list_bin[j][0]-item[s[i],0], list_bin[j][1]]\n",
        "              change = True\n",
        "              if list_bin[j][0] < min_length:\n",
        "                  new_list_bin = new_list_bin = np.empty((len(list_bin) -1 , 2), np.int_)\n",
        "                  new_list_bin[:j] = list_bin[:j]\n",
        "                  new_list_bin[j:] = list_bin[j+1:]\n",
        "                  list_bin = new_list_bin\n",
        "              break\n",
        "        if change: continue\n",
        "        if total >= item[s[i],0]:\n",
        "            total-= item[s[i],0]\n",
        "            if max_width< item[s[i],1]:\n",
        "                max_width =  item[s[i],1]\n",
        "            if min_width> item[s[i],1]:\n",
        "                min_width =  item[s[i],1]\n",
        "        else:\n",
        "          if total >= min_length:\n",
        "            new_list_bin = np.empty((len(list_bin) + 1, 2), np.int_)\n",
        "            new_list_bin[:-1] = list_bin\n",
        "            new_list_bin[-1] = np.array([total,max_width], np.int_)\n",
        "            list_bin = new_list_bin\n",
        "          cost+= max_width\n",
        "          total = length- item[s[i],0]\n",
        "          count+=1\n",
        "          max_width=item[s[i],1]\n",
        "          min_width=item[s[i],1]\n",
        "    cost += max_width\n",
        "    return cost, count"
      ]
    },
    {
      "cell_type": "code",
      "execution_count": 4,
      "metadata": {
        "id": "L_JEY9GJsdvC"
      },
      "outputs": [],
      "source": [
        "@njit\n",
        "def ls(s,k, item):\n",
        "    best_cost, best_count = shelf(s,item)\n",
        "    print(best_cost, best_count)\n",
        "    for _ in range(k):\n",
        "        new_item = np.copy(item)\n",
        "        j = len(s)%k\n",
        "        for i in range(j-len(s), j):\n",
        "            new_item[s[i],0], new_item[s[i],1]= new_item[s[i],1], new_item[s[i],0]\n",
        "            a,b =  shelf(s,new_item)\n",
        "            if a < best_cost:\n",
        "                item = new_item.copy()\n",
        "                best_cost=a\n",
        "                best_count=b\n",
        "                print(best_cost, best_count)\n",
        "    for _ in range(k):\n",
        "        new_item = np.copy(item)\n",
        "        i= rd.randint(0,len(s)-2)\n",
        "        j= rd.randint(i+1,len(s)-1)\n",
        "        new_item[s[i]], new_item[s[j]]= new_item[s[j]].copy(),new_item[s[i]].copy()\n",
        "        a,b= shelf(s, new_item)\n",
        "        if a < best_cost:\n",
        "            item = new_item.copy()\n",
        "            best_cost = a\n",
        "            best_count = b\n",
        "            print(best_cost, best_count)\n",
        "    return item"
      ]
    },
    {
      "cell_type": "code",
      "execution_count": 7,
      "metadata": {
        "id": "ZEzc07GWy4Qf",
        "colab": {
          "base_uri": "https://localhost:8080/"
        },
        "outputId": "6f2520a1-7597-4a7d-97ba-f9ba0401278c"
      },
      "outputs": [
        {
          "output_type": "stream",
          "name": "stdout",
          "text": [
            "1125 21\n",
            "1124 21\n",
            "1122 21\n",
            "1121 21\n"
          ]
        },
        {
          "output_type": "execute_result",
          "data": {
            "text/plain": [
              "(1121, 21)"
            ]
          },
          "metadata": {},
          "execution_count": 7
        }
      ],
      "source": [
        "A= list(range(len(item)))\n",
        "A.sort(key= lambda x:-item[x][1])\n",
        "s = np.array(A, np.int_)\n",
        "item = ls(s,1000,item)\n",
        "shelf(s,item)"
      ]
    },
    {
      "cell_type": "code",
      "execution_count": 8,
      "metadata": {
        "id": "6aW61SsZV9wv",
        "colab": {
          "base_uri": "https://localhost:8080/",
          "height": 1000
        },
        "outputId": "16d08623-5e6a-4308-a217-3c6fd87d1661"
      },
      "outputs": [
        {
          "output_type": "stream",
          "name": "stdout",
          "text": [
            "(1121, 21)\n",
            "[[175, 183, 156, 151, 163, 77, 92, 52], [64, 68, 63, 50, 191, 178, 159, 162, 181], [199, 170, 198, 150, 172, 54, 73, 53, 62, 80], [97, 94, 71, 75, 186, 196, 189, 176, 174], [190, 160, 164, 188, 177, 99, 55, 81, 60, 72], [95, 91, 51, 69, 182, 173, 166, 154, 180], [184, 152, 157, 153, 167, 57, 88, 96, 59, 67], [78, 98, 89, 86, 90, 197, 192, 165, 187, 171], [155, 158, 168, 185, 193, 84, 83, 87, 61], [74, 56, 58, 76, 195, 194, 179, 169, 161], [82, 93, 65, 66, 70, 79, 85, 104, 121, 129, 133, 0, 15], [48, 35, 113, 102, 46, 45, 42, 29, 24, 22, 20, 18, 137], [116, 125, 135, 142, 145, 4, 6, 13], [2, 25, 16, 141, 124, 112, 110, 100], [143, 38, 109, 118, 122, 130, 1], [134, 108, 103, 41, 36, 9, 144, 131], [5, 32, 39, 40, 47, 111, 114, 128, 146, 7, 14], [19, 148, 147, 126, 107, 44, 149], [26, 27, 30, 31, 37, 101, 3, 43, 106, 138, 8, 10], [17, 12, 127, 119, 117, 49, 33, 21, 11, 139], [23, 28, 34, 105, 115, 120, 123], [140, 136, 132]]\n"
          ]
        },
        {
          "output_type": "display_data",
          "data": {
            "text/plain": [
              "<Figure size 640x1280 with 1 Axes>"
            ],
            "image/png": "[encoded data removed]"
          },
          "metadata": {}
        }
      ],
      "source": [
        "from matplotlib.patches import Rectangle\n",
        "def rec(x,y,l,w,color):\n",
        "    rec= Rectangle((x,y),l,w,linewidth=1,edgecolor='r',facecolor=color)\n",
        "    plt.gca().add_patch(rec)\n",
        "\n",
        "\n",
        "from matplotlib.pyplot import figure\n",
        "def shelf_draw(s):\n",
        "    figure(figsize=(8, 16), dpi=80)\n",
        "    total = length\n",
        "    count = 0\n",
        "    max_width=0\n",
        "    min_width=100000000\n",
        "    cost=0\n",
        "    plt.gca().set_aspect('equal')\n",
        "\n",
        "    plt.plot(500, 1500, \"ro\")\n",
        "    rec(x=0,y=0,l=length,w=1500,color=\"none\")\n",
        "    pv_x=0\n",
        "    pv_y=0\n",
        "    list_bin = np.empty((0, 5), np.int_)\n",
        "    reverse = False\n",
        "    solution = [[]]\n",
        "    for i in range(len(s)):\n",
        "        change = False\n",
        "        for j  in range(len(list_bin)):\n",
        "          if list_bin[j][0] >= item[s[i], 0] and list_bin[j][1] >= item[s[i],1]:\n",
        "              if list_bin[j][4]%2 == 1:\n",
        "                  rec(x=list_bin[j][2]-item[s[i],0], y=list_bin[j][3],l=item[s[i],0],w=item[s[i],1],color=\"blue\")\n",
        "                  list_bin[j][:] = [list_bin[j][0]-item[s[i],0], list_bin[j][1], list_bin[j][2] - item[s[i],0], list_bin[j][3], list_bin[j][4]]\n",
        "                  solution[list_bin[j][4]].insert(0, s[i])\n",
        "              else:\n",
        "                  rec(x=list_bin[j][2], y=list_bin[j][3],l=item[s[i],0],w=item[s[i],1],color=\"blue\")\n",
        "                  list_bin[j][:] = [list_bin[j][0]-item[s[i],0], list_bin[j][1], list_bin[j][2] + item[s[i],0], list_bin[j][3], list_bin[j][4]]\n",
        "                  solution[list_bin[j][4]].append(s[i])\n",
        "              if list_bin[j][0] < min_length:\n",
        "                  new_list_bin = np.empty((len(list_bin) - 1, 5), np.int_)\n",
        "                  new_list_bin[:j] = list_bin[:j]\n",
        "                  new_list_bin[j:] = list_bin[j+1:]\n",
        "                  list_bin = new_list_bin\n",
        "              change = True\n",
        "              break\n",
        "        if change: continue\n",
        "        if total >= item[s[i],0]:\n",
        "            total-= item[s[i],0]\n",
        "            if reverse:\n",
        "                pv_x -= item[s[i],0]\n",
        "                rec(x=pv_x, y=pv_y,l=item[s[i],0],w=item[s[i],1],color=\"blue\")\n",
        "                solution[-1].insert(0,s[i])\n",
        "            else:\n",
        "                rec(x=pv_x, y=pv_y,l=item[s[i],0],w=item[s[i],1],color=\"blue\")\n",
        "                pv_x += item[s[i],0]\n",
        "                solution[-1].append(s[i])\n",
        "            if max_width< item[s[i],1]:\n",
        "                max_width =  item[s[i],1]\n",
        "            if min_width> item[s[i],1]:\n",
        "                min_width =  item[s[i],1]\n",
        "        else:\n",
        "            if total >= min_length:\n",
        "                new_list_bin = np.empty((len(list_bin) + 1, 5), np.int_)\n",
        "                new_list_bin[:-1] = list_bin\n",
        "                new_list_bin[-1] = np.array([total,max_width,pv_x,pv_y,count], np.int_)\n",
        "                list_bin = new_list_bin\n",
        "            count += 1\n",
        "            total = length- item[s[i],0]\n",
        "            pv_y += max_width\n",
        "            cost += max_width- min_width\n",
        "            if not reverse:\n",
        "                pv_x = length - item[s[i],0]\n",
        "                rec(x=pv_x, y=pv_y,l=item[s[i],0],w=item[s[i],1],color=\"blue\")\n",
        "                solution.append([s[i]])\n",
        "                reverse = True\n",
        "            else:\n",
        "                rec(x=0, y=pv_y,l=item[s[i],0],w=item[s[i],1],color=\"blue\")\n",
        "                pv_x = item[s[i],0]\n",
        "                solution.append([s[i]])\n",
        "                reverse = False\n",
        "            # print(\"next\", pv_y)\n",
        "            rec(x=pv_x, y=pv_y,l=item[s[i],0],w=item[s[i],1],color=\"blue\")\n",
        "            max_width=item[s[i],1]\n",
        "            min_width=item[s[i],1]\n",
        "    print(solution)\n",
        "print(shelf(s,item))\n",
        "shelf_draw(s)"
      ]
    }
  ],
  "metadata": {
    "colab": {
      "provenance": []
    },
    "kernelspec": {
      "display_name": "Python 3",
      "name": "python3"
    },
    "language_info": {
      "name": "python"
    }
  },
  "nbformat": 4,
  "nbformat_minor": 0
}