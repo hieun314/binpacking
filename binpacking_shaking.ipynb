{
  "nbformat": 4,
  "nbformat_minor": 0,
  "metadata": {
    "colab": {
      "provenance": []
    },
    "kernelspec": {
      "name": "python3",
      "display_name": "Python 3"
    },
    "language_info": {
      "name": "python"
    }
  },
  "cells": [
    {
      "cell_type": "code",
      "execution_count": 9,
      "metadata": {
        "id": "eYn8DULCfvSY"
      },
      "outputs": [],
      "source": [
        "import math\n",
        "import numpy as np\n",
        "import random as rd\n",
        "import matplotlib.pyplot as plt\n",
        "import numba\n",
        "from numba import njit\n",
        "import time\n",
        "from matplotlib.pyplot import figure\n",
        "# !pip install ortools\n",
        "# import ortools\n",
        "\n",
        "# from ortools.constraint_solver import routing_enums_pb2\n",
        "\n",
        "# from ortools.constraint_solver import pywrapcp\n",
        "from numba.typed import List\n",
        "from collections import defaultdict"
      ]
    },
    {
      "cell_type": "code",
      "source": [
        "n = 200\n",
        "item_list= []\n",
        "for i in range(n//4):\n",
        "    a= rd.randint(20,30)\n",
        "    b= rd.randint(20,30)\n",
        "    item_list.append(np.array([a,b], np.int_))\n",
        "for i in range(n//4):\n",
        "    a= rd.randint(50,80)\n",
        "    b= rd.randint(10,20)\n",
        "    item_list.append(np.array([a,b], np.int_))\n",
        "for i in range(n//4):\n",
        "    a= rd.randint(20,30)\n",
        "    b= rd.randint(80,90)\n",
        "    item_list.append(np.array([a,b], np.int_))\n",
        "for i in range(n//4):\n",
        "    a= rd.randint(70,90)\n",
        "    b= rd.randint(80,90)\n",
        "    item_list.append(np.array([a,b], np.int_))\n",
        "item_list = np.array( item_list, np.int_)\n",
        "min_width = min([item[1] for item in item_list])\n",
        "bin_length = 1200\n",
        "bin_width = 500"
      ],
      "metadata": {
        "id": "hELGN8aKfx1R"
      },
      "execution_count": 10,
      "outputs": []
    },
    {
      "cell_type": "code",
      "source": [
        "PI_X = 2\n",
        "PI_Y = 3\n",
        "PI_LENGTH = 0\n",
        "PI_WIDTH = 1"
      ],
      "metadata": {
        "id": "Jo0X4q2KVDzs"
      },
      "execution_count": 11,
      "outputs": []
    },
    {
      "cell_type": "code",
      "source": [
        "def split(s,item_list):\n",
        "    total = bin_width\n",
        "    max_length = 0\n",
        "    count = 0\n",
        "    pv_x=0\n",
        "    pv_y=0\n",
        "    list_bin = np.empty((0, 5), np.int_)\n",
        "    reverse = False\n",
        "    new_list_item = [[]]\n",
        "    for i in range(len(s)):\n",
        "        change = False\n",
        "        for j  in range(len(list_bin)):\n",
        "          if list_bin[j][1] >= item_list[s[i], 1] and list_bin[j][0] >= item_list[s[i], 0]:\n",
        "              if list_bin[j][4]%2 == 1:\n",
        "                  new_list_item[list_bin[j][4]].insert(0, np.array([item_list[s[i],0], item_list[s[i],1], list_bin[j][2], list_bin[j][3]-item_list[s[i],1]], np.int_))\n",
        "                  list_bin[j][:] = [list_bin[j][0], list_bin[j][1] - item_list[s[i],1], list_bin[j][2], list_bin[j][3]  - item_list[s[i],1], list_bin[j][4]]\n",
        "              else:\n",
        "                  new_list_item[list_bin[j][4]].append(np.array([item_list[s[i],0], item_list[s[i], 1], list_bin[j][2], list_bin[j][3]], np.int_))\n",
        "                  list_bin[j][:] = [list_bin[j][0], list_bin[j][1] - item_list[s[i],1], list_bin[j][2], list_bin[j][3] + item_list[s[i],1], list_bin[j][4]]\n",
        "              if list_bin[j][1] < min_width:\n",
        "                  new_list_bin = np.empty((len(list_bin) - 1, 5), np.int_)\n",
        "                  new_list_bin[:j] = list_bin[:j]\n",
        "                  new_list_bin[j:] = list_bin[j+1:]\n",
        "                  list_bin = new_list_bin\n",
        "              change = True\n",
        "              break\n",
        "        if change: continue\n",
        "        if total >= item_list[s[i],1]:\n",
        "            total-= item_list[s[i],1]\n",
        "            if reverse:\n",
        "                pv_y -= item_list[s[i],1]\n",
        "                new_list_item[-1].insert(0,np.array([item_list[s[i],0], item_list[s[i], 1], pv_x, pv_y], np.int_))\n",
        "            else:\n",
        "                new_list_item[-1].append(np.array([item_list[s[i],0], item_list[s[i], 1], pv_x, pv_y], np.int_))\n",
        "                pv_y += item_list[s[i],1]\n",
        "            if max_length < item_list[s[i],0]:\n",
        "                max_length =  item_list[s[i],0]\n",
        "        else:\n",
        "            if total >= min_width:\n",
        "                new_list_bin = np.empty((len(list_bin) + 1, 5), np.int_)\n",
        "                new_list_bin[:-1] = list_bin\n",
        "                new_list_bin[-1] = np.array([max_length, total,pv_x,pv_y,count], np.int_)\n",
        "                list_bin = new_list_bin\n",
        "            count += 1\n",
        "            total = bin_width - item_list[s[i],1]\n",
        "            pv_x += max_length\n",
        "            if not reverse:\n",
        "                pv_y = bin_width - item_list[s[i],1]\n",
        "                new_list_item.append([np.array([item_list[s[i],0], item_list[s[i], 1], pv_x, pv_y], np.int_)])\n",
        "                reverse = True\n",
        "            else:\n",
        "                new_list_item.append([np.array([item_list[s[i],0], item_list[s[i], 1], pv_x, 0], np.int_)])\n",
        "                pv_y = item_list[s[i],1]\n",
        "                reverse = False\n",
        "            max_length = item_list[s[i],0]\n",
        "    item_list = []\n",
        "    for x in new_list_item: item_list.extend(x)\n",
        "    item_list = np.array(item_list, np.int_)\n",
        "    return item_list"
      ],
      "metadata": {
        "id": "tYVB8ohwf0Js"
      },
      "execution_count": 12,
      "outputs": []
    },
    {
      "cell_type": "code",
      "source": [
        "@njit\n",
        "def check_over_lap(p1, y1, p2, y2):\n",
        "    if p1>=p2+y2:\n",
        "        return False\n",
        "    if p1+y1<=p2:\n",
        "        return False\n",
        "    return True"
      ],
      "metadata": {
        "id": "0WM7uE_DVAn2"
      },
      "execution_count": 13,
      "outputs": []
    },
    {
      "cell_type": "code",
      "source": [
        "@njit\n",
        "def shaking_items(item_list, invert, shaking_direction, shaking_zone = np.array([10000000, 10000000, 0, 0]), static_zone = np.array([0, 0, -1, -1], np.int_)):\n",
        "    if not invert:item_list = item_list[np.argsort(item_list[:,PI_LENGTH + shaking_direction] + item_list[:,PI_X + shaking_direction])]\n",
        "    elif invert: item_list = item_list[np.argsort(-item_list[:,PI_LENGTH + shaking_direction] - item_list[:,PI_X + shaking_direction])]\n",
        "    for i in range(len(item_list)):\n",
        "        if item_list[i][PI_X] < shaking_zone[PI_X] or item_list[i][PI_X] > shaking_zone[PI_X] + shaking_zone[PI_LENGTH] or item_list[i][PI_Y] < shaking_zone[PI_Y] or item_list[i][PI_Y] > shaking_zone[PI_Y] + shaking_zone[PI_WIDTH]:\n",
        "          continue\n",
        "        if item_list[i][PI_X] >= static_zone[PI_X] and item_list[i][PI_X] <= static_zone[PI_X] + static_zone[PI_LENGTH] and item_list[i][PI_Y] >= static_zone[PI_Y] and item_list[i][PI_Y] <= static_zone[PI_Y] + static_zone[PI_WIDTH]:\n",
        "          continue\n",
        "        if not invert: new_pos=0\n",
        "        elif invert:\n",
        "          if shaking_direction == 0:\n",
        "            new_pos = bin_length  - item_list[i][PI_LENGTH]\n",
        "          elif shaking_direction == 1:\n",
        "            new_pos = bin_width  - item_list[i][PI_WIDTH]\n",
        "        for j in range(i):\n",
        "            if not invert:\n",
        "              if check_over_lap(item_list[i][PI_Y - shaking_direction],item_list[i][PI_WIDTH - shaking_direction], item_list[j][PI_Y - shaking_direction],item_list[j][PI_WIDTH - shaking_direction]):\n",
        "                  new_pos= max(item_list[j][PI_X + shaking_direction]+ item_list[j][PI_LENGTH + shaking_direction], new_pos)\n",
        "            elif invert:\n",
        "              if check_over_lap(item_list[i][PI_Y - shaking_direction],item_list[i][PI_WIDTH - shaking_direction], item_list[j][PI_Y - shaking_direction],item_list[j][PI_WIDTH - shaking_direction]):\n",
        "                  new_pos= min(item_list[j][PI_X + shaking_direction]- item_list[i][PI_LENGTH + shaking_direction], new_pos)\n",
        "        item_list[i][PI_X + shaking_direction]= new_pos\n",
        "    return item_list"
      ],
      "metadata": {
        "id": "oH_db_HsU3mW"
      },
      "execution_count": 14,
      "outputs": []
    },
    {
      "cell_type": "code",
      "source": [
        "from matplotlib.patches import Rectangle\n",
        "def rec(x,y,l,w,color):\n",
        "    rec= Rectangle((x,y),l,w,linewidth=1,edgecolor='r',facecolor=color)\n",
        "    plt.gca().add_patch(rec)\n",
        "from matplotlib.pyplot import figure\n",
        "def split_draw(item_list):\n",
        "    figure(figsize=(8, 16), dpi=80)\n",
        "    plt.gca().set_aspect('equal')\n",
        "\n",
        "    plt.plot(bin_length, bin_width, \"ro\")\n",
        "    rec(x=0,y=0,l=bin_length,w=bin_width,color=\"none\")\n",
        "    for item in item_list:\n",
        "      rec(x=item[2],y=item[3],l=item[0],w=item[1],color=\"blue\")"
      ],
      "metadata": {
        "id": "QVsL6yJ7qhoL"
      },
      "execution_count": 15,
      "outputs": []
    },
    {
      "cell_type": "code",
      "source": [
        "A= list(range(len(item_list)))\n",
        "A.sort(key= lambda x:-item_list[x][0])\n",
        "s = np.array(A, np.int_)\n",
        "item_list = split(s,item_list)\n",
        "split_draw(item_list)"
      ],
      "metadata": {
        "id": "LX0hOSD2oZXF",
        "colab": {
          "base_uri": "https://localhost:8080/",
          "height": 257
        },
        "outputId": "919d97af-6490-45c9-d060-4d63763883b6"
      },
      "execution_count": 16,
      "outputs": [
        {
          "output_type": "display_data",
          "data": {
            "text/plain": [
              "<Figure size 640x1280 with 1 Axes>"
            ],
            "image/png": "[encoded data removed]"
          },
          "metadata": {}
        }
      ]
    },
    {
      "cell_type": "code",
      "source": [
        "item_list= shaking_items(item_list, 0, 0, np.array([10000000, 10000000, 0, 0]), np.array([0, 0, -1, -1], np.int_))\n",
        "split_draw(item_list)"
      ],
      "metadata": {
        "colab": {
          "base_uri": "https://localhost:8080/",
          "height": 257
        },
        "id": "pzVb99LeqeGH",
        "outputId": "9844701e-f2e4-4279-e07a-92c704316380"
      },
      "execution_count": 17,
      "outputs": [
        {
          "output_type": "display_data",
          "data": {
            "text/plain": [
              "<Figure size 640x1280 with 1 Axes>"
            ],
            "image/png": "[encoded data removed]"
          },
          "metadata": {}
        }
      ]
    }
  ]
}